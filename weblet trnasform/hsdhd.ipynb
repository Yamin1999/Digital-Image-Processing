{
 "cells": [
  {
   "cell_type": "code",
   "execution_count": null,
   "source": [
    "import pywt\n",
    "import numpy as np\n",
    "import matplotlib.pyplot as plt"
   ],
   "outputs": [],
   "metadata": {}
  },
  {
   "cell_type": "code",
   "execution_count": null,
   "source": [
    "t = np.linspace(0,1,200)\n",
    "\n",
    "signal = np.cos(2 * np.pi * 7 * t) + np.real(np.exp(-7*(t-0.4)**2)*np.exp(1j*2*np.pi*2*(t-0.4)))\n",
    "\n",
    "\n",
    "scales = np.arange(1, 31)\n",
    "coef,freqs = pywt.cwt(signal,scales,'gaus1')\n",
    "\n",
    "plt.figure(figsize=(15,10));\n",
    "plt.imshow(abs(coef),extent=[0,200,30,1],interpolation='bilinear',cmap='bone',aspect='auto',vmax=abs(coef).max(),vmin=-abs(coef).max())\n",
    "\n",
    "plt.gca().invert_yaxis()\n",
    "plt.yticks(np.arange(1,31,1))\n",
    "plt.xticks(np.arange(0,201,10))\n",
    "\n",
    "\n",
    "plt.show()\n",
    "\n",
    "plt.figure(figsize=(15,10))\n",
    "plt.plot(t,signal)\n",
    "plt.grid(color='gray',linestyle=':',linewidth=0.5)"
   ],
   "outputs": [],
   "metadata": {}
  },
  {
   "cell_type": "code",
   "execution_count": null,
   "source": [],
   "outputs": [],
   "metadata": {}
  }
 ],
 "metadata": {
  "orig_nbformat": 4,
  "language_info": {
   "name": "python",
   "version": "3.9.2"
  },
  "kernelspec": {
   "name": "python3",
   "display_name": "Python 3.9.2 64-bit"
  },
  "interpreter": {
   "hash": "916dbcbb3f70747c44a77c7bcd40155683ae19c65e1c03b4aa3499c5328201f1"
  }
 },
 "nbformat": 4,
 "nbformat_minor": 2
}